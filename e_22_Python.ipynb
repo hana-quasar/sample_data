{
  "cells": [
    {
      "cell_type": "markdown",
      "id": "f0db2282",
      "metadata": {
        "id": "f0db2282"
      },
      "source": [
        "# 파이썬 기초\n",
        "- 주피터 노트북 사용법\n",
        "- 기본 변수, 묶음변수(리스트, 튜플, 딕셔너리)\n",
        "- 특수 변수(range)\n",
        "- in, enumerate\n",
        "- 프로그램 흐름 (if, elif, else, for, break)"
      ]
    },
    {
      "cell_type": "markdown",
      "id": "afecd79e",
      "metadata": {
        "id": "afecd79e"
      },
      "source": [
        "# Jupyter Notebook\n",
        "\n",
        "- 개인 PC를 사용하는 경우  \n",
        "  - PC에 아나콘다 설치\n",
        "  - pip install tensorflow 실행(CPU 버전인 경우)\n",
        "  - PC 검색창에서 anaconda prompt 실행 후 원하는 시작 폴더로 이동\n",
        "  - jupyter notebook 실행\n",
        "\n",
        "- 구글 클라우드 colab 사용  \n",
        "  - colab.research.google.com 접속\n",
        "  - 구글 계정에 가입해야 한다, 크롬 브라우저 사용\n",
        "  - 스마트폰에서도 colab 접속 가능\n",
        "- 예제는 github.com에서 다운로드 한다  \n",
        "  - github.com 계정 가입 필요"
      ]
    },
    {
      "cell_type": "markdown",
      "id": "9c337934",
      "metadata": {
        "id": "9c337934"
      },
      "source": [
        "## 주요 명령 단축키 (PC에서)\n",
        "\n",
        "- 셀의 왼쪽 부분을 클릭하면 명령 입력 모드가 된다(셀이 파란색으로 바뀜). 명령 입력 모드에서 아래 단축키를 사용할 수 있다  \n",
        "\n",
        "  - a  : 현재 셀 위에 셀 추가 (above)\n",
        "  - b  : 현재 셀 아래에 셀 추가 (below)\n",
        "  - x  : 현재 셀 삭제 (delete)\n",
        "  - m  : 문서용 셀로 전환 (mark up)\n",
        "  - y  : 코드용 셀로 전환\n",
        "  - o  : 출력 보이기/안보이기 토글 (output)\n",
        "  -  아래 셀과 합치기 shift + m (merge)\n",
        "  -  셀을 둘로 나누기 ctrl + shift + '-'\n",
        "  - h  : help\n",
        "\n",
        "\n",
        "- **코랩에서는 명령어 입력 전에 (ctrl + m)을 먼저 입력해야 한다**"
      ]
    },
    {
      "cell_type": "markdown",
      "id": "1ff9c2ad",
      "metadata": {
        "id": "1ff9c2ad"
      },
      "source": [
        "# 마크다운\n",
        "- 이 셀은 마크다운 셀이다. 셀의 성격을 바꾸는 메뉴는 상단 Cell - Cell Type에 있다  \n",
        "\n",
        "## 작은제목\n",
        "### 더 작은 제목\n",
        "- 쥬피터 노트북의 장점은 프로그램 코드 작성 셀과 함께 이렇게 문서를 편집하는 셀도 하나의 노트북내에서 같이 만들 수 있다는 것이다\n",
        "  - 들여쓰기\n",
        " > 세부 내용은 이렇게 쓸 수 있다\n",
        "- **강조하기**를 할 수 있고 *이탤릭체*를 쓸 수도 있다\n",
        "\n",
        "## 셀 편집 방법\n",
        "- 셀을 편집하려면 셀 내부를 더블 클릭한다 (셀이 초록색을 바뀐다)\n",
        "\n",
        "## 셀 실행 방법\n",
        "- 각 셀은 프로그램 코드 또는 문서(마크업 문서) 중 하나로 사용된다\n",
        "- 셀을 Ctrl + Enter로 실행하면 셀 실행 후 커서가 현재의 셀에 남아 있는다\n",
        "- 셀을 Shift + Enter 로 실행하면 셀 실행 후 **커서가 다음 셀로 이동**한다\n",
        "\n",
        "## 셀 실행 번호\n",
        "\n",
        "- 코드 셀에서 In [2] 와 같이 숫자가 보이는데, 이는 이 셀이 실행된 순서를 나타내며 큰 의미는 없다. 노트북을 재실행하면 1번부터 다시 시작한다"
      ]
    },
    {
      "cell_type": "markdown",
      "id": "fcf5c1e9",
      "metadata": {
        "id": "fcf5c1e9"
      },
      "source": [
        "## 목차 만들기(PC)\n",
        "- colab을 사용하면 좌측에서 목차를 기본적으로 볼 수 있다\n",
        " - 목차는 마크다운에서 #, ##, ###, ... 등이 포함된 라인들로 작성된다\n",
        "- PC에서 아나콘다를 사용하는 경우 쥬피터 노트북 좌측에 목차를 만들려면 아래 명령을 수행한 후 쥬피터 노트북을 재실행한다\n",
        " - 아래에서 '!'의 의미는 운영체제에 즉 컴퓨터에게 직접 명령을 수행하라는 의미이다"
      ]
    },
    {
      "cell_type": "code",
      "execution_count": null,
      "id": "b7f01c0f",
      "metadata": {
        "id": "b7f01c0f"
      },
      "outputs": [],
      "source": [
        "# !pip install jupyter_contrib_nbextensions && jupyter contrib nbextension install --user"
      ]
    },
    {
      "cell_type": "markdown",
      "id": "7b27c12b",
      "metadata": {
        "id": "7b27c12b"
      },
      "source": [
        "- 쥬피터 노트북 최상단에 Nbextention 탭이 추가된 것이 보이면, 이를 선택한 후 Table of Contents(2) 활성화를 선택한다.\n",
        "- 관련 블로그 https://junpyopark.github.io/Jupyter_Extension/"
      ]
    },
    {
      "cell_type": "markdown",
      "id": "cc3161ce",
      "metadata": {
        "id": "cc3161ce"
      },
      "source": [
        "# 파이선 기본 문법\n",
        "\n",
        "- 기본 변수 (단일 데이터 저장)\n",
        "  - 정수(int), 부동소수(float), 문자열(strings), 불리언(bool)  \n",
        "- 묶음 데이터 (복수 데이터 저장)\n",
        "  - 리스트(list), 튜풀(tuple), 사전(dictionary)\n",
        "- 프로그램 흐름\n",
        "  - if, else, for, break\n",
        "- enumerate\n",
        "  - 리스트에서 순서번호(인덱스)를 얻는 방법"
      ]
    },
    {
      "cell_type": "markdown",
      "id": "e6576640",
      "metadata": {
        "id": "e6576640"
      },
      "source": [
        "# 기본 변수\n",
        "## 숫자, 문자열, 불리언\n",
        "\n",
        "- 숫자에는 정수(int)와 부동소수(float)가 있다\n",
        "- 변수에 값을 배정(assign)할 때 \"=\"를 사용한다"
      ]
    },
    {
      "cell_type": "code",
      "execution_count": 2,
      "id": "1e47cfbc",
      "metadata": {
        "colab": {
          "base_uri": "https://localhost:8080/"
        },
        "id": "1e47cfbc",
        "outputId": "00df66ca-c805-48a2-8fb3-29c7da5cc956"
      },
      "outputs": [
        {
          "output_type": "stream",
          "name": "stdout",
          "text": [
            "3 0.5 김연아 True\n"
          ]
        }
      ],
      "source": [
        "## 파이썬의 기본 변수 4가지\n",
        "\n",
        "a = 3\n",
        "b = 0.5\n",
        "x = \"김연아\"\n",
        "y = True\n",
        "print(a,b,x,y)"
      ]
    },
    {
      "cell_type": "code",
      "execution_count": 4,
      "id": "0933ea17",
      "metadata": {
        "colab": {
          "base_uri": "https://localhost:8080/"
        },
        "id": "0933ea17",
        "outputId": "858230f2-fc42-4ebf-de9f-d51f7737f659"
      },
      "outputs": [
        {
          "output_type": "execute_result",
          "data": {
            "text/plain": [
              "3"
            ]
          },
          "metadata": {},
          "execution_count": 4
        }
      ],
      "source": [
        "## 문자열의 길이 보기 (length)\n",
        "\n",
        "len(x)  # 3"
      ]
    },
    {
      "cell_type": "code",
      "execution_count": 3,
      "id": "5ec7bb46",
      "metadata": {
        "colab": {
          "base_uri": "https://localhost:8080/"
        },
        "id": "5ec7bb46",
        "outputId": "c7302d38-2359-49f6-8b37-d1d96d34e3d0"
      },
      "outputs": [
        {
          "output_type": "stream",
          "name": "stdout",
          "text": [
            "3.5\n",
            "2.5\n",
            "1.5\n",
            "6.0\n",
            "4.5\n"
          ]
        }
      ],
      "source": [
        "## 정수, 소수, 불리언의 4칙 연산\n",
        "\n",
        "print(a+b)\n",
        "print(a-b)\n",
        "print(a*b)\n",
        "print(a/b)\n",
        "print(a+b+y)"
      ]
    },
    {
      "cell_type": "code",
      "execution_count": null,
      "id": "ccf06bd0",
      "metadata": {
        "id": "ccf06bd0",
        "outputId": "3b7bea5c-4c13-4638-e644-a1ed33101396"
      },
      "outputs": [
        {
          "data": {
            "text/plain": [
              "(int, float, str, bool)"
            ]
          },
          "execution_count": 4,
          "metadata": {},
          "output_type": "execute_result"
        }
      ],
      "source": [
        "## 변수의 타입 확인하기\n",
        "\n",
        "type(a), type(b), type(x), type(y)"
      ]
    },
    {
      "cell_type": "code",
      "execution_count": null,
      "id": "7673cce7",
      "metadata": {
        "id": "7673cce7",
        "outputId": "0ee8c4d0-5272-461e-9721-3026fa54bc80"
      },
      "outputs": [
        {
          "name": "stdout",
          "output_type": "stream",
          "text": [
            "2\n",
            "1\n",
            "343\n"
          ]
        }
      ],
      "source": [
        "## 나눗셈 몫과 나머지, 승수\n",
        "\n",
        "a = 7\n",
        "b = 3\n",
        "\n",
        "print(a//b)  # 2, 몫 구하기\n",
        "print(a%b)   # 1, 나머지\n",
        "print(a**b)  # 232, 승수"
      ]
    },
    {
      "cell_type": "markdown",
      "id": "c27ae0ac",
      "metadata": {
        "id": "c27ae0ac"
      },
      "source": [
        "## 문자열"
      ]
    },
    {
      "cell_type": "code",
      "execution_count": null,
      "id": "acdfd47d",
      "metadata": {
        "scrolled": true,
        "id": "acdfd47d",
        "outputId": "b660c8f0-e5fc-4533-98fa-e1927c8adb89"
      },
      "outputs": [
        {
          "name": "stdout",
          "output_type": "stream",
          "text": [
            "오늘 날씨는 좋으네요~~~ \n"
          ]
        }
      ],
      "source": [
        "## 문자열 붙이기\n",
        "\n",
        "x = \"오늘 날씨는 \"\n",
        "y = \"좋으네요~~~ \"\n",
        "z = x + y\n",
        "print(z)"
      ]
    },
    {
      "cell_type": "code",
      "execution_count": null,
      "id": "98f8824e",
      "metadata": {
        "id": "98f8824e",
        "outputId": "ed1563ed-b984-4a2f-da88-cccee330e51e"
      },
      "outputs": [
        {
          "data": {
            "text/plain": [
              "'오늘 날씨는 좋으네요~~~ 좋으네요~~~ 좋으네요~~~ '"
            ]
          },
          "execution_count": 8,
          "metadata": {},
          "output_type": "execute_result"
        }
      ],
      "source": [
        "## 문자열 반복하기\n",
        "\n",
        "x + 3*y"
      ]
    },
    {
      "cell_type": "code",
      "execution_count": null,
      "id": "c8558b0d",
      "metadata": {
        "id": "c8558b0d",
        "outputId": "04858b0d-3350-4286-8695-1e8aa9c684ff"
      },
      "outputs": [
        {
          "name": "stdout",
          "output_type": "stream",
          "text": [
            "7\n",
            "오늘 날씨는 \n",
            "늘\n",
            "오늘 \n",
            "날씨는\n",
            "씨\n",
            "씨는 \n"
          ]
        }
      ],
      "source": [
        "## 문자열 일부 보기 (인덱스를 사용한 슬라이싱)\n",
        "\n",
        "x = \"오늘 날씨는 \"\n",
        "\n",
        "print(len(x)) # 문자열 전체 글자수\n",
        "print(x)       # 전체 보기\n",
        "print(x[1])   # 두 번째(1) 글자\n",
        "print(x[:3])  # 네 번재(3) 미만까지\n",
        "print(x[3:6]) # 네 번째(3) 이상 ~ 7번째(6) 미만\n",
        "print(x[-3])  # 뒤에서 세 번째(3) 글자\n",
        "print(x[-3:]) # 뒤에서 세 번째(3) 이후"
      ]
    },
    {
      "cell_type": "markdown",
      "id": "e62d1163",
      "metadata": {
        "id": "e62d1163"
      },
      "source": [
        "### 문자열 조작, split과 join\n",
        "- 문자열을 공백, \"/\", \",\" 등 임의의 기호를 기준으로 나누거나(split) 합친다(join)\n",
        "- 나누어진 항목은 리스트(list)에 저장된다 (리스트는 묶음 데이터를 나타내며 뒤에서 설명함)"
      ]
    },
    {
      "cell_type": "code",
      "source": [
        "name1 = '김연아 손흥민 이선희 유재석'\n",
        "\n",
        "# ','로 나누기\n",
        "z = name1.split(';')\n",
        "print(z)"
      ],
      "metadata": {
        "id": "mOyXeAwFKaRa",
        "outputId": "09449b8e-0834-452f-9939-bd59f54108db",
        "colab": {
          "base_uri": "https://localhost:8080/"
        }
      },
      "id": "mOyXeAwFKaRa",
      "execution_count": 5,
      "outputs": [
        {
          "output_type": "stream",
          "name": "stdout",
          "text": [
            "['김연아 손흥민 이선희 유재석']\n"
          ]
        }
      ]
    },
    {
      "cell_type": "code",
      "execution_count": 8,
      "id": "6206236c",
      "metadata": {
        "colab": {
          "base_uri": "https://localhost:8080/",
          "height": 35
        },
        "id": "6206236c",
        "outputId": "73f54e2e-cdf4-46d4-8299-71114abffb06"
      },
      "outputs": [
        {
          "output_type": "execute_result",
          "data": {
            "text/plain": [
              "'김연아 손흥민 이선희 유재석'"
            ],
            "application/vnd.google.colaboratory.intrinsic+json": {
              "type": "string"
            }
          },
          "metadata": {},
          "execution_count": 8
        }
      ],
      "source": [
        "## 단어 합치기\n",
        "\n",
        "'%'.join(z)"
      ]
    },
    {
      "cell_type": "code",
      "execution_count": null,
      "id": "fa98555c",
      "metadata": {
        "id": "fa98555c",
        "outputId": "4eb46417-9078-43f6-a1a1-9fa3fa0cc961"
      },
      "outputs": [
        {
          "name": "stdout",
          "output_type": "stream",
          "text": [
            "['12', '31', '2023']\n"
          ]
        }
      ],
      "source": [
        "## 문자열을 \"/\"를 기준으로 나누고 순서를 바꾸어서 합치기\n",
        "\n",
        "date = '12/31/2023'\n",
        "z = date.split('/')\n",
        "print(z)"
      ]
    },
    {
      "cell_type": "code",
      "execution_count": null,
      "id": "e7c9c597",
      "metadata": {
        "id": "e7c9c597",
        "outputId": "f7784a6d-8ad9-4ec9-a272-608abf7e653e"
      },
      "outputs": [
        {
          "name": "stdout",
          "output_type": "stream",
          "text": [
            "31\n"
          ]
        }
      ],
      "source": [
        "print(z[1])"
      ]
    },
    {
      "cell_type": "code",
      "execution_count": 10,
      "id": "17880270",
      "metadata": {
        "colab": {
          "base_uri": "https://localhost:8080/",
          "height": 201
        },
        "id": "17880270",
        "outputId": "4a5a21a5-5914-494d-b00e-ac0365698d24"
      },
      "outputs": [
        {
          "output_type": "error",
          "ename": "IndexError",
          "evalue": "ignored",
          "traceback": [
            "\u001b[0;31m---------------------------------------------------------------------------\u001b[0m",
            "\u001b[0;31mIndexError\u001b[0m                                Traceback (most recent call last)",
            "\u001b[0;32m<ipython-input-10-e1d8d490e914>\u001b[0m in \u001b[0;36m<cell line: 1>\u001b[0;34m()\u001b[0m\n\u001b[0;32m----> 1\u001b[0;31m \u001b[0mnew_date\u001b[0m \u001b[0;34m=\u001b[0m \u001b[0;34m\"-\"\u001b[0m\u001b[0;34m.\u001b[0m\u001b[0mjoin\u001b[0m\u001b[0;34m(\u001b[0m\u001b[0;34m(\u001b[0m\u001b[0mz\u001b[0m\u001b[0;34m[\u001b[0m\u001b[0;36m1\u001b[0m\u001b[0;34m]\u001b[0m\u001b[0;34m,\u001b[0m \u001b[0mz\u001b[0m\u001b[0;34m[\u001b[0m\u001b[0;36m0\u001b[0m\u001b[0;34m]\u001b[0m\u001b[0;34m,\u001b[0m \u001b[0mz\u001b[0m\u001b[0;34m[\u001b[0m\u001b[0;36m2\u001b[0m\u001b[0;34m]\u001b[0m\u001b[0;34m)\u001b[0m\u001b[0;34m)\u001b[0m\u001b[0;34m\u001b[0m\u001b[0;34m\u001b[0m\u001b[0m\n\u001b[0m\u001b[1;32m      2\u001b[0m \u001b[0mprint\u001b[0m\u001b[0;34m(\u001b[0m\u001b[0mnew_date\u001b[0m\u001b[0;34m)\u001b[0m\u001b[0;34m\u001b[0m\u001b[0;34m\u001b[0m\u001b[0m\n",
            "\u001b[0;31mIndexError\u001b[0m: list index out of range"
          ]
        }
      ],
      "source": [
        "new_date = \"-\".join((z[1], z[0], z[2]))\n",
        "print(new_date)"
      ]
    },
    {
      "cell_type": "code",
      "execution_count": null,
      "id": "b7aae965",
      "metadata": {
        "id": "b7aae965",
        "outputId": "0c092cf2-6559-46cb-cbbd-4e4b772b92af"
      },
      "outputs": [
        {
          "name": "stdout",
          "output_type": "stream",
          "text": [
            "오늘 기온은 \n"
          ]
        }
      ],
      "source": [
        "# 문자열 교체 (replace)\n",
        "\n",
        "x = \"오늘 날씨는 \"\n",
        "print(x.replace(\"날씨는\", \"기온은\"))"
      ]
    },
    {
      "cell_type": "markdown",
      "id": "b8c53925",
      "metadata": {
        "id": "b8c53925"
      },
      "source": [
        "### 문자열에 포맷( format) 사용하기\n",
        "- 변수가 포함된 문자열을 만드는 방법\n",
        "  - f\"...\" 사용"
      ]
    },
    {
      "cell_type": "code",
      "execution_count": 13,
      "id": "d927e7a7",
      "metadata": {
        "colab": {
          "base_uri": "https://localhost:8080/"
        },
        "id": "d927e7a7",
        "outputId": "3941fba2-e7e2-4491-e8f1-33c1c2210a93"
      },
      "outputs": [
        {
          "output_type": "stream",
          "name": "stdout",
          "text": [
            "틀린 갯수가 5개 이하이면 90.5 점입니다.\n"
          ]
        }
      ],
      "source": [
        "## 문자열 내에 변수 값을 포함하는 방법 (format)\n",
        "\n",
        "x = 5\n",
        "y = 90.5\n",
        "\n",
        "print(f\"틀린 갯수가 {x}개 이하이면 {y} 점입니다.\")"
      ]
    },
    {
      "cell_type": "markdown",
      "id": "be3195b4",
      "metadata": {
        "id": "be3195b4"
      },
      "source": [
        "## 불리언\n",
        "- 참과 거짓을 True, False로 표현\n",
        "- 대소문자를 구분함\n",
        "\n",
        "- \">\", \"<\", \"==\", \">=\",\"<=\" 등의 비교연산을 사용하여 불리언 값을 얻는다"
      ]
    },
    {
      "cell_type": "code",
      "execution_count": 15,
      "id": "49c1df5e",
      "metadata": {
        "colab": {
          "base_uri": "https://localhost:8080/"
        },
        "id": "49c1df5e",
        "outputId": "918fe2dd-efb0-4d95-a6bd-07add2a33cb9"
      },
      "outputs": [
        {
          "output_type": "stream",
          "name": "stdout",
          "text": [
            "True\n"
          ]
        }
      ],
      "source": [
        "## 비교 연산의 결과는 논리형 값이다\n",
        "\n",
        "x = 5\n",
        "z = x > 1\n",
        "print(z)"
      ]
    },
    {
      "cell_type": "code",
      "execution_count": 16,
      "id": "ceea3283",
      "metadata": {
        "colab": {
          "base_uri": "https://localhost:8080/"
        },
        "id": "ceea3283",
        "outputId": "0f0b9271-df2d-4609-8e6a-4b35ae50a6f2"
      },
      "outputs": [
        {
          "output_type": "stream",
          "name": "stdout",
          "text": [
            "False\n",
            "True\n"
          ]
        }
      ],
      "source": [
        "## 논리형 연산 결과는 논리형 값이다\n",
        "\n",
        "a = True\n",
        "b = False\n",
        "print(a & b) # False\n",
        "print(a | b) # True"
      ]
    },
    {
      "cell_type": "markdown",
      "id": "a242e9b4",
      "metadata": {
        "id": "a242e9b4"
      },
      "source": [
        "### 불리언의 연산\n",
        "- 불리언 변수가 연산에 사용되면 True는 1로, False는 0으로 자동으로 변환된다"
      ]
    },
    {
      "cell_type": "code",
      "execution_count": 17,
      "id": "3dc997d9",
      "metadata": {
        "colab": {
          "base_uri": "https://localhost:8080/"
        },
        "id": "3dc997d9",
        "outputId": "6a3269c0-14d5-422d-e8b8-e274bc09e7d5"
      },
      "outputs": [
        {
          "output_type": "stream",
          "name": "stdout",
          "text": [
            "0\n",
            "1\n"
          ]
        }
      ],
      "source": [
        "print(b*10)\n",
        "print(a+b)"
      ]
    },
    {
      "cell_type": "markdown",
      "id": "b49adaf8",
      "metadata": {
        "id": "b49adaf8"
      },
      "source": [
        "# 묶음 데이터\n",
        " - 숫자, 문자, 불리언 등 단변수들을 여러개 묶어 처리하는 방법\n",
        " - 리스트(list), 튜플(tuple), 사전(dictionary)"
      ]
    },
    {
      "cell_type": "markdown",
      "id": "5c04cea5",
      "metadata": {
        "id": "5c04cea5"
      },
      "source": [
        "## 리스트\n",
        " - 파이썬에서 가장 널리 사용되는 데이터 조작용 \"통\"\n",
        " - 리스트를 구성하는 각 항목의 데이터 타입은 서로 달라도 된다\n",
        " - 리스트 항목으로 이미지나, 파일 전체를 담을 수도 있다"
      ]
    },
    {
      "cell_type": "markdown",
      "id": "48439c31",
      "metadata": {
        "id": "48439c31"
      },
      "source": [
        "### 리스트 생성\n",
        " - 리스트를 만들려면 대괄호 \"[ ]\" 를 사용하고 각 항목을 ','로 구분한다\n",
        " - list() 함수로도 만들 수 있다"
      ]
    },
    {
      "cell_type": "markdown",
      "id": "1b0d26cc",
      "metadata": {
        "id": "1b0d26cc"
      },
      "source": [
        "### 슬라이싱\n",
        "- 리스트 내의 어떤 범위의 항목을 얻는다\n",
        "- 범위를 지정하는 것을 인덱싱이라고 한다"
      ]
    },
    {
      "cell_type": "code",
      "execution_count": 18,
      "id": "bd813f7f",
      "metadata": {
        "colab": {
          "base_uri": "https://localhost:8080/"
        },
        "id": "bd813f7f",
        "outputId": "8486ac00-974c-48c7-ef94-853b0eeb20fc",
        "scrolled": true
      },
      "outputs": [
        {
          "output_type": "stream",
          "name": "stdout",
          "text": [
            "7\n",
            "[1, 2, 3, 30, 90, [100, 200], '김연아']\n",
            "2\n",
            "[1, 2, 3]\n",
            "[30, 90, [100, 200]]\n",
            "90\n",
            "[90, [100, 200], '김연아']\n"
          ]
        }
      ],
      "source": [
        "## 리스트 생성과 일부 항목 얻기\n",
        "\n",
        "a = 3\n",
        "b = 90\n",
        "small_list = [100,200]\n",
        "x = [1,2,a,a*10,b,small_list,'김연아']\n",
        "\n",
        "print(len(x)) # 리스트의 항목 수\n",
        "print(x)       # 전체 항목 보기\n",
        "print(x[1])   # 두 번째(1) 항목\n",
        "print(x[:3])  # 네 번재(3) 미만까지\n",
        "print(x[3:6]) # 네 번째(3) 이상 ~ 7번째(6) 미만\n",
        "print(x[-3])  # 뒤에서 세 번째(3) 항목\n",
        "print(x[-3:]) # 뒤에서 세 번째(3) 이후"
      ]
    },
    {
      "cell_type": "code",
      "source": [
        "print(x[5])"
      ],
      "metadata": {
        "id": "U-6PLli7Noxe",
        "outputId": "2477b100-cca1-4194-ed32-fb54baeb4363",
        "colab": {
          "base_uri": "https://localhost:8080/"
        }
      },
      "id": "U-6PLli7Noxe",
      "execution_count": 19,
      "outputs": [
        {
          "output_type": "stream",
          "name": "stdout",
          "text": [
            "[100, 200]\n"
          ]
        }
      ]
    },
    {
      "cell_type": "markdown",
      "id": "6dc16842",
      "metadata": {
        "id": "6dc16842"
      },
      "source": [
        "### 항목 추가 : append()"
      ]
    },
    {
      "cell_type": "code",
      "execution_count": 22,
      "id": "d365457b",
      "metadata": {
        "colab": {
          "base_uri": "https://localhost:8080/"
        },
        "id": "d365457b",
        "outputId": "cbae2d04-af69-44c8-8df7-628bf68f62d7"
      },
      "outputs": [
        {
          "output_type": "stream",
          "name": "stdout",
          "text": [
            "[1, 2, 3, 30, 90, [100, 200], '김연아', '1111']\n"
          ]
        },
        {
          "output_type": "execute_result",
          "data": {
            "text/plain": [
              "[1, 2, 3, 30, 90, [100, 200], '김연아', '1111', '손흥민']"
            ]
          },
          "metadata": {},
          "execution_count": 22
        }
      ],
      "source": [
        "## 리스트 맨 뒤에 항목 추가하기\n",
        "\n",
        "print(x)\n",
        "x.append('손흥민') # 맨 뒤에 추가된다\n",
        "x"
      ]
    },
    {
      "cell_type": "code",
      "source": [
        "x"
      ],
      "metadata": {
        "id": "OB7sdD2GN5jd",
        "outputId": "8f634301-9080-407f-c7c4-ecb8abd27a8a",
        "colab": {
          "base_uri": "https://localhost:8080/"
        }
      },
      "id": "OB7sdD2GN5jd",
      "execution_count": 24,
      "outputs": [
        {
          "output_type": "execute_result",
          "data": {
            "text/plain": [
              "[1, 2, 3, 30, 90, [100, 200], '김연아', '1111', '손흥민']"
            ]
          },
          "metadata": {},
          "execution_count": 24
        }
      ]
    },
    {
      "cell_type": "markdown",
      "id": "fb07f211",
      "metadata": {
        "id": "fb07f211"
      },
      "source": [
        "### in\n",
        "- 어떤 항목이 리스트에 들어 있는지를 확인한다\n",
        "- 결과는 True나 Flase를 얻는다"
      ]
    },
    {
      "cell_type": "code",
      "execution_count": null,
      "id": "64283be5",
      "metadata": {
        "id": "64283be5",
        "outputId": "393dded2-7039-4785-8a36-cf2a69a2e83d"
      },
      "outputs": [
        {
          "name": "stdout",
          "output_type": "stream",
          "text": [
            "True\n",
            "True\n",
            "False\n"
          ]
        }
      ],
      "source": [
        "## 리스트에 포함된 항목 확인하기\n",
        "\n",
        "x = [30,40,'김연아']\n",
        "print(30 in x)\n",
        "print('김연아' in x)\n",
        "print(100 in x)"
      ]
    },
    {
      "cell_type": "code",
      "source": [
        "300 in x"
      ],
      "metadata": {
        "id": "W-w5x03AT0sT",
        "outputId": "77940c37-d3b8-4be0-a75a-4e12b97abc64",
        "colab": {
          "base_uri": "https://localhost:8080/"
        }
      },
      "id": "W-w5x03AT0sT",
      "execution_count": 26,
      "outputs": [
        {
          "output_type": "execute_result",
          "data": {
            "text/plain": [
              "False"
            ]
          },
          "metadata": {},
          "execution_count": 26
        }
      ]
    },
    {
      "cell_type": "markdown",
      "id": "e88851d4",
      "metadata": {
        "id": "e88851d4"
      },
      "source": [
        "### 리스트 복제\n",
        "- 리스트 전체를 반복 복제 하려면 \"*\"를 사용한다\n",
        "- 리스트를 합치려면 \"+\"를 사용한다"
      ]
    },
    {
      "cell_type": "code",
      "execution_count": 29,
      "id": "2fdb6f52",
      "metadata": {
        "colab": {
          "base_uri": "https://localhost:8080/"
        },
        "id": "2fdb6f52",
        "outputId": "c2d8418c-6b60-4bc0-884a-463e7d8ef6df"
      },
      "outputs": [
        {
          "output_type": "execute_result",
          "data": {
            "text/plain": [
              "[0, 0, 0, 0, 0, 1, 1, 1, 1, 1]"
            ]
          },
          "metadata": {},
          "execution_count": 29
        }
      ],
      "source": [
        "## 리스트 복제 및 더하기\n",
        "\n",
        "a = [0] # 항목이 0 하나인 리스트\n",
        "b = [1] # 항목이 1 하나인 리스트\n",
        "z = a*5 + b*5\n",
        "z"
      ]
    },
    {
      "cell_type": "code",
      "source": [],
      "metadata": {
        "id": "ZU6imlIoUGIX"
      },
      "id": "ZU6imlIoUGIX",
      "execution_count": null,
      "outputs": []
    },
    {
      "cell_type": "markdown",
      "id": "bde4a98b",
      "metadata": {
        "id": "bde4a98b"
      },
      "source": [
        "### 리스트 정렬, sorted\n",
        "- 숫자 또는 알파벳순으로 정렬한다"
      ]
    },
    {
      "cell_type": "code",
      "execution_count": 30,
      "id": "8394f8a0",
      "metadata": {
        "colab": {
          "base_uri": "https://localhost:8080/"
        },
        "id": "8394f8a0",
        "outputId": "965a0d9e-4aa0-4793-a533-02521b8c2006"
      },
      "outputs": [
        {
          "output_type": "stream",
          "name": "stdout",
          "text": [
            "[1, 2, 3, 4, 5]\n",
            "[5, 4, 3, 2, 1]\n",
            "['김연아', '김하나', '이선희']\n"
          ]
        }
      ],
      "source": [
        "## 리스트 순서 정렬하기\n",
        "\n",
        "x = [2,1,3,5,4]\n",
        "y = sorted(x)\n",
        "z = sorted(x, reverse=True)\n",
        "print(y)\n",
        "print(z)\n",
        "\n",
        "x = ['이선희', '김연아', '김하나']\n",
        "y = sorted(x)\n",
        "print(y)"
      ]
    },
    {
      "cell_type": "code",
      "source": [],
      "metadata": {
        "id": "_Pa8M5jbUira"
      },
      "id": "_Pa8M5jbUira",
      "execution_count": null,
      "outputs": []
    },
    {
      "cell_type": "markdown",
      "id": "72a5dc1a",
      "metadata": {
        "id": "72a5dc1a"
      },
      "source": [
        "## 튜플 (tuple)\n",
        "- 튜플도 리스트처럼 여러 항목을 담을 수 있는 변수\n",
        "- 리스트와 달리 튜플의 내용은 '상수'로 취급되어 값을 바꿀 수 없다\n",
        "- 읽기 전용 리스트인 셈이다\n",
        "- 튜플을 사용하는 이유는 리스트보다 처리 속도가 빠르며 값을 안전하게 고정시키기 위해서이다\n",
        "- 튜플도 슬라이싱이 가능하다\n",
        "- 튜플을 만들려면 소괄호( )를 사용하여 만들거나 ( )  없이 \",\" 로 구분하여 나열한다"
      ]
    },
    {
      "cell_type": "code",
      "execution_count": 34,
      "id": "72c481a8",
      "metadata": {
        "colab": {
          "base_uri": "https://localhost:8080/"
        },
        "id": "72c481a8",
        "outputId": "a459b663-ab66-4ea9-909a-3b1f76a064ff"
      },
      "outputs": [
        {
          "output_type": "stream",
          "name": "stdout",
          "text": [
            "(1, 2, 3, 1, 2, 3, 1, 2, 3, 90, 'good', 90, 'good')\n",
            "good\n",
            "True\n",
            "False\n"
          ]
        }
      ],
      "source": [
        "## 튜플 만들기, 복제, 합치기\n",
        "\n",
        "tuple_a = (1, 2, 3)\n",
        "tuple_b = 90,\"good\"\n",
        "z = tuple_a*3 + tuple_b*2\n",
        "print(z)\n",
        "print(z[-1])\n",
        "print(3 in z)\n",
        "print(4 in z)"
      ]
    },
    {
      "cell_type": "code",
      "source": [
        "a, b, c = 1, 2, 3\n",
        "b"
      ],
      "metadata": {
        "id": "UpzwV3oUVPDV",
        "outputId": "d3e88523-36ca-48b2-83bc-e7ce85f33363",
        "colab": {
          "base_uri": "https://localhost:8080/"
        }
      },
      "id": "UpzwV3oUVPDV",
      "execution_count": 35,
      "outputs": [
        {
          "output_type": "execute_result",
          "data": {
            "text/plain": [
              "2"
            ]
          },
          "metadata": {},
          "execution_count": 35
        }
      ]
    },
    {
      "cell_type": "markdown",
      "id": "a77ccc1b",
      "metadata": {
        "id": "a77ccc1b"
      },
      "source": [
        "## 사전 (Dictionaries)\n",
        "- 키-값 조합 형태의 데이터 묶음\n",
        "- 간단한 데이터베이스처럼 사용된다\n",
        "- 항목을 찾을 때 키를 사용한다\n",
        "- 딕셔너리에서 저장된 순서는 의미가 없다\n",
        "- 딕셔너리는 중괄호 {  } 로 만들거나 dict()로 만든다"
      ]
    },
    {
      "cell_type": "code",
      "execution_count": 43,
      "id": "adf74da3",
      "metadata": {
        "colab": {
          "base_uri": "https://localhost:8080/"
        },
        "id": "adf74da3",
        "outputId": "9fdb0156-5816-40bc-b3fd-43c89da8ab9c"
      },
      "outputs": [
        {
          "output_type": "stream",
          "name": "stdout",
          "text": [
            "3\n",
            "{'grade': 3, 'age': 28, 'name': 'Hana Kim', 'address': 'Seoul', 'hobby': 'poketmon', 'company': 'LG'}\n"
          ]
        }
      ],
      "source": [
        "## 딕셔너리 생성, 값변경, 항목 추가하기\n",
        "\n",
        "student = {'grade': 3,'age': 21,'name': \"kim\"  }\n",
        "print(student['grade'])\n",
        "student['age'] = 28\n",
        "student['address'] = 'Seoul'\n",
        "student ['hobby'] = 'poketmon'\n",
        "student [ 'company'] = 'LG'\n",
        "student ['name'] = 'Hana Kim'\n",
        "print(student)"
      ]
    },
    {
      "cell_type": "code",
      "source": [
        "print(student['name'])\n",
        "student"
      ],
      "metadata": {
        "id": "vwWxrNJkWcTx",
        "outputId": "f67fbd6e-00f8-4ed4-bfe3-b26053f24d84",
        "colab": {
          "base_uri": "https://localhost:8080/"
        }
      },
      "id": "vwWxrNJkWcTx",
      "execution_count": 44,
      "outputs": [
        {
          "output_type": "stream",
          "name": "stdout",
          "text": [
            "Hana Kim\n"
          ]
        },
        {
          "output_type": "execute_result",
          "data": {
            "text/plain": [
              "{'grade': 3,\n",
              " 'age': 28,\n",
              " 'name': 'Hana Kim',\n",
              " 'address': 'Seoul',\n",
              " 'hobby': 'poketmon',\n",
              " 'company': 'LG'}"
            ]
          },
          "metadata": {},
          "execution_count": 44
        }
      ]
    },
    {
      "cell_type": "code",
      "execution_count": null,
      "id": "9f55bb67",
      "metadata": {
        "id": "9f55bb67",
        "outputId": "f67dbaee-fcff-4724-f600-85ee933b3067",
        "scrolled": true
      },
      "outputs": [
        {
          "name": "stdout",
          "output_type": "stream",
          "text": [
            "dict_keys(['grade', 'age', 'name', 'address'])\n",
            "dict_values([3, 28, 'kim', 'Seoul'])\n",
            "dict_items([('grade', 3), ('age', 28), ('name', 'kim'), ('address', 'Seoul')])\n"
          ]
        }
      ],
      "source": [
        "## 딕셔너리의 키, 값, 항목 전체 출력하기\n",
        "\n",
        "print(student.keys())\n",
        "print(student.values())\n",
        "print(student.items())"
      ]
    },
    {
      "cell_type": "markdown",
      "id": "07eaea8c",
      "metadata": {
        "id": "07eaea8c"
      },
      "source": [
        "### in"
      ]
    },
    {
      "cell_type": "code",
      "execution_count": 45,
      "id": "83452982",
      "metadata": {
        "colab": {
          "base_uri": "https://localhost:8080/"
        },
        "id": "83452982",
        "outputId": "4a1a5b68-b0dc-48ab-83c6-74ec0600dddd"
      },
      "outputs": [
        {
          "output_type": "stream",
          "name": "stdout",
          "text": [
            "True\n",
            "False\n"
          ]
        }
      ],
      "source": [
        "## 딕셔너리에 특정 키가 존재하는지 확인하기\n",
        "\n",
        "print(\"age\" in student)\n",
        "print(\"sex\" in student)"
      ]
    },
    {
      "cell_type": "code",
      "source": [
        "print(\"name\" in student)"
      ],
      "metadata": {
        "id": "awKbp-gIXEyr",
        "outputId": "319a60e2-7f09-4b5a-befd-13620247d141",
        "colab": {
          "base_uri": "https://localhost:8080/"
        }
      },
      "id": "awKbp-gIXEyr",
      "execution_count": 46,
      "outputs": [
        {
          "output_type": "stream",
          "name": "stdout",
          "text": [
            "True\n"
          ]
        }
      ]
    },
    {
      "cell_type": "markdown",
      "id": "8257e1de",
      "metadata": {
        "id": "8257e1de"
      },
      "source": [
        "## range\n",
        "\n",
        "- 일정한 범위의 값들을 나타내는 특수 변수"
      ]
    },
    {
      "cell_type": "code",
      "execution_count": 49,
      "id": "6bc782f4",
      "metadata": {
        "colab": {
          "base_uri": "https://localhost:8080/"
        },
        "id": "6bc782f4",
        "outputId": "2989212e-b6de-430f-9ec2-712502e552d7"
      },
      "outputs": [
        {
          "output_type": "stream",
          "name": "stdout",
          "text": [
            "range(0, 100)\n",
            "[0, 1, 2, 3, 4, 5, 6, 7, 8, 9, 10, 11, 12, 13, 14, 15, 16, 17, 18, 19, 20, 21, 22, 23, 24, 25, 26, 27, 28, 29, 30, 31, 32, 33, 34, 35, 36, 37, 38, 39, 40, 41, 42, 43, 44, 45, 46, 47, 48, 49, 50, 51, 52, 53, 54, 55, 56, 57, 58, 59, 60, 61, 62, 63, 64, 65, 66, 67, 68, 69, 70, 71, 72, 73, 74, 75, 76, 77, 78, 79, 80, 81, 82, 83, 84, 85, 86, 87, 88, 89, 90, 91, 92, 93, 94, 95, 96, 97, 98, 99]\n",
            "range(2, 200, 2)\n",
            "[2, 4, 6, 8, 10, 12, 14, 16, 18, 20, 22, 24, 26, 28, 30, 32, 34, 36, 38, 40, 42, 44, 46, 48, 50, 52, 54, 56, 58, 60, 62, 64, 66, 68, 70, 72, 74, 76, 78, 80, 82, 84, 86, 88, 90, 92, 94, 96, 98, 100, 102, 104, 106, 108, 110, 112, 114, 116, 118, 120, 122, 124, 126, 128, 130, 132, 134, 136, 138, 140, 142, 144, 146, 148, 150, 152, 154, 156, 158, 160, 162, 164, 166, 168, 170, 172, 174, 176, 178, 180, 182, 184, 186, 188, 190, 192, 194, 196, 198]\n"
          ]
        }
      ],
      "source": [
        "## 특수 변수 range와 내용 보기\n",
        "\n",
        "x = range(100)\n",
        "print(x)\n",
        "print(list(x))\n",
        "\n",
        "y = range(2,200,2)\n",
        "print(y)\n",
        "print(list(y))"
      ]
    },
    {
      "cell_type": "markdown",
      "id": "59bd8023",
      "metadata": {
        "id": "59bd8023"
      },
      "source": [
        "\n",
        "\n",
        "# 프로그램 흐름"
      ]
    },
    {
      "cell_type": "markdown",
      "id": "8d439ad7",
      "metadata": {
        "id": "8d439ad7"
      },
      "source": [
        "## if\n",
        "- if 문 다음이 True이면 \":\" 이후 블록을 실행한다\n",
        "- 블록은 들여쓰기가 같은 영역으로 구분한다\n",
        "- else: 문을 사용할 수도 있다.\n",
        "- if 뒤에는 불리언이 필요하다"
      ]
    },
    {
      "cell_type": "code",
      "execution_count": 53,
      "id": "09599db0",
      "metadata": {
        "colab": {
          "base_uri": "https://localhost:8080/"
        },
        "id": "09599db0",
        "outputId": "10319179-2e70-4a1d-cc6e-660ccd6f7797"
      },
      "outputs": [
        {
          "output_type": "stream",
          "name": "stdout",
          "text": [
            "2차 면접시험 대상자 입니다.\n",
            "시험 날짜를 알려드리겠습니다.\n"
          ]
        }
      ],
      "source": [
        "## 기본적인 if, elif, else 사용법\n",
        "\n",
        "x = 70\n",
        "\n",
        "if x > 80:\n",
        "    print(\"축하합니다~ 합격입니다\")\n",
        "    print(\"다음주부터 출근하시면 됩니다.\")\n",
        "elif x > 60:\n",
        "    print(\"2차 면접시험 대상자 입니다.\")\n",
        "    print(\"시험 날짜를 알려드리겠습니다.\")\n",
        "else:\n",
        "    print(\"불합격입니다.\")"
      ]
    },
    {
      "cell_type": "code",
      "source": [
        "y = 70\n",
        "if y > 80:\n",
        "    print(\"포켓몬왕입니다\")\n",
        "    print(\"진화합니다\")\n",
        "else:\n",
        "    print(\"일이나하세요\")"
      ],
      "metadata": {
        "id": "xcU7TgqhYWyq",
        "outputId": "e94bef46-f3c5-4a82-d162-4c8a55306558",
        "colab": {
          "base_uri": "https://localhost:8080/"
        }
      },
      "id": "xcU7TgqhYWyq",
      "execution_count": 56,
      "outputs": [
        {
          "output_type": "stream",
          "name": "stdout",
          "text": [
            "일이나하세요\n"
          ]
        }
      ]
    },
    {
      "cell_type": "code",
      "execution_count": null,
      "id": "d9af1e6e",
      "metadata": {
        "id": "d9af1e6e",
        "outputId": "fc64774e-1574-47f3-ea0d-cab5ae176458"
      },
      "outputs": [
        {
          "name": "stdout",
          "output_type": "stream",
          "text": [
            "----------------------\n",
            "불합격입니다.\n",
            "----------------------\n",
            "2차 면접시험 대상자 입니다.\n",
            "시험 날짜를 알려드리겠습니다.\n",
            "----------------------\n",
            "축하합니다~ 합격입니다\n",
            "다음주부터 출근하시면 됩니다.\n"
          ]
        }
      ],
      "source": [
        "## for 문을 사용하여 채점 결과를 알려주는 코드\n",
        "\n",
        "score = [50, 70, 90]\n",
        "for x in score:\n",
        "    print('----------------------')\n",
        "    if x > 80:\n",
        "        print(\"축하합니다~ 합격입니다\")\n",
        "        print(\"다음주부터 출근하시면 됩니다.\")\n",
        "    elif x > 60:\n",
        "        print(\"2차 면접시험 대상자 입니다.\")\n",
        "        print(\"시험 날짜를 알려드리겠습니다.\")\n",
        "    else:\n",
        "        print(\"불합격입니다.\")"
      ]
    },
    {
      "cell_type": "code",
      "source": [
        "score = [50, 70, 90]\n",
        "for x in score:\n",
        "  print('***********************')\n",
        "  if x > 80:\n",
        "    print(\"포켓몬왕입니다\")\n",
        "  elif x > 60 :\n",
        "    print(\"진화중입니다\")\n",
        "  else:\n",
        "    print(\"일이나하세요\")"
      ],
      "metadata": {
        "id": "u9pOq8kbZNv6",
        "outputId": "a5ccaaec-70ef-4879-a8b9-ed8285964ffe",
        "colab": {
          "base_uri": "https://localhost:8080/"
        }
      },
      "id": "u9pOq8kbZNv6",
      "execution_count": 60,
      "outputs": [
        {
          "output_type": "stream",
          "name": "stdout",
          "text": [
            "***********************\n",
            "일이나하세요\n",
            "***********************\n",
            "진화중입니다\n",
            "***********************\n",
            "포켓몬왕입니다\n"
          ]
        }
      ]
    },
    {
      "cell_type": "markdown",
      "id": "14e23599",
      "metadata": {
        "id": "14e23599"
      },
      "source": [
        "## enumerate"
      ]
    },
    {
      "cell_type": "code",
      "execution_count": 61,
      "id": "8490d22b",
      "metadata": {
        "colab": {
          "base_uri": "https://localhost:8080/"
        },
        "id": "8490d22b",
        "outputId": "5f321eb5-5056-4133-f80d-b202d192696f"
      },
      "outputs": [
        {
          "output_type": "stream",
          "name": "stdout",
          "text": [
            "----------------------\n",
            "1 번째 응시자님:\n",
            "불합격입니다.\n",
            "----------------------\n",
            "2 번째 응시자님:\n",
            "2차 면접시험 대상자 입니다.\n",
            "시험 날짜를 알려드리겠습니다.\n",
            "----------------------\n",
            "3 번째 응시자님:\n",
            "축하합니다~ 합격입니다\n",
            "다음주부터 출근하시면 됩니다.\n",
            "----------------------\n",
            "4 번째 응시자님:\n",
            "축하합니다~ 합격입니다\n",
            "다음주부터 출근하시면 됩니다.\n"
          ]
        }
      ],
      "source": [
        "## 리스트의 인덱스를 얻는 enumerate() 사용예\n",
        "\n",
        "score = [50, 70, 90, 95]\n",
        "\n",
        "for i, x in enumerate(score):\n",
        "    print('----------------------')\n",
        "    print(i+1, \"번째 응시자님:\")\n",
        "    if x > 80:\n",
        "        print(\"축하합니다~ 합격입니다\")\n",
        "        print(\"다음주부터 출근하시면 됩니다.\")\n",
        "    elif x > 60:\n",
        "        print(\"2차 면접시험 대상자 입니다.\")\n",
        "        print(\"시험 날짜를 알려드리겠습니다.\")\n",
        "    else:\n",
        "        print(\"불합격입니다.\")"
      ]
    },
    {
      "cell_type": "code",
      "execution_count": null,
      "id": "71ef153d",
      "metadata": {
        "id": "71ef153d",
        "outputId": "eca781f8-6c77-45e8-a8e8-b481a0ae893e"
      },
      "outputs": [
        {
          "name": "stdout",
          "output_type": "stream",
          "text": [
            "[(0, 'kim'), (1, 'park'), (2, 'lee')]\n",
            "1 번째 사람 이름은 kim입니다\n",
            "2 번째 사람 이름은 park입니다\n",
            "3 번째 사람 이름은 lee입니다\n"
          ]
        }
      ],
      "source": [
        "## enumerate 사용 예\n",
        "\n",
        "names = [\"kim\", \"park\", \"lee\"]\n",
        "print(list(enumerate(names)))\n",
        "\n",
        "for i, name in enumerate(names):\n",
        "    print(f\"{i+1} 번째 사람 이름은 {name}입니다\")"
      ]
    },
    {
      "cell_type": "code",
      "source": [
        "names = [\"파이리\", \"꼬북이\", \"파비코\"]\n",
        "for i, name in enumerate(names):\n",
        "  print(f\"{i+1} 번째 포켓몬 이름은 {name}입니다\")"
      ],
      "metadata": {
        "id": "u_1IuuHtbAFs",
        "outputId": "15a077ad-b865-4287-be31-08fe68681e90",
        "colab": {
          "base_uri": "https://localhost:8080/"
        }
      },
      "id": "u_1IuuHtbAFs",
      "execution_count": 62,
      "outputs": [
        {
          "output_type": "stream",
          "name": "stdout",
          "text": [
            "1 번째 포켓몬 이름은 파이리입니다\n",
            "2 번째 포켓몬 이름은 꼬북이입니다\n",
            "3 번째 포켓몬 이름은 파비코입니다\n"
          ]
        }
      ]
    },
    {
      "cell_type": "markdown",
      "id": "77c94958",
      "metadata": {
        "id": "77c94958"
      },
      "source": [
        "## for\n",
        "- 특정 조건이 만족되는 동안 \":\" 이후의 블록을 수행\n",
        "- 수행할 블록은 들여쓰기로 구분한다\n",
        "- in과 같이 자주 사용된다"
      ]
    },
    {
      "cell_type": "code",
      "execution_count": null,
      "id": "b3fc3e51",
      "metadata": {
        "id": "b3fc3e51",
        "outputId": "65ffb718-441a-422e-a6af-b13f2fcb5094"
      },
      "outputs": [
        {
          "name": "stdout",
          "output_type": "stream",
          "text": [
            "10\n",
            "20\n",
            "30\n",
            "40\n",
            "50\n"
          ]
        }
      ],
      "source": [
        "## 1~5 사이의 정수에 10을 곱하기\n",
        "\n",
        "for i in range(1,6):\n",
        "    print(i*10)"
      ]
    },
    {
      "cell_type": "markdown",
      "id": "61dcd73a",
      "metadata": {
        "id": "61dcd73a"
      },
      "source": [
        "### 리스트 내에서 for 사용하기"
      ]
    },
    {
      "cell_type": "code",
      "execution_count": 64,
      "id": "2a961ea2",
      "metadata": {
        "colab": {
          "base_uri": "https://localhost:8080/"
        },
        "id": "2a961ea2",
        "outputId": "df41ec7e-6102-4ed6-e719-f535bad5dfc7"
      },
      "outputs": [
        {
          "output_type": "stream",
          "name": "stdout",
          "text": [
            "[100, 200, 300, 400, 500, 600, 700, 800, 900]\n"
          ]
        }
      ],
      "source": [
        "## 리스트 선언문 내에서 for를 사용하는 방법\n",
        "\n",
        "z = [i*100 for i in range(1,10)]\n",
        "print(z)"
      ]
    },
    {
      "cell_type": "code",
      "execution_count": null,
      "id": "b0ecdcc3",
      "metadata": {
        "id": "b0ecdcc3",
        "outputId": "207a6654-2d02-4fda-c6c0-ea1ca98fbe7a"
      },
      "outputs": [
        {
          "name": "stdout",
          "output_type": "stream",
          "text": [
            "True\n",
            "True\n"
          ]
        }
      ],
      "source": [
        "## 문자열에 문자열 포함 확인하기\n",
        "\n",
        "s = 'I am happy'\n",
        "print('happy' in s)\n",
        "print('hap' in s)"
      ]
    },
    {
      "cell_type": "code",
      "execution_count": null,
      "id": "f0c8db44",
      "metadata": {
        "id": "f0c8db44",
        "outputId": "1a6fcd7c-f5a5-4bac-8fc8-011abbdf091e"
      },
      "outputs": [
        {
          "name": "stdout",
          "output_type": "stream",
          "text": [
            "['cat001', 'cat002']\n"
          ]
        }
      ],
      "source": [
        "## 특정 문자열이 포함된 항목을 찾아서 리스트를 만들기\n",
        "\n",
        "files = ['cat001', 'cat002', 'dog003', 'dog004']\n",
        "match = 'cat'\n",
        "new_list = [s for s in files if match in s]\n",
        "print(new_list)"
      ]
    },
    {
      "cell_type": "code",
      "source": [
        "files = ['꼬북이', '파이리', '파비코1', '파비코']\n",
        "match = '파비코'\n",
        "new_list = [d for d in files if match in d]\n",
        "print(new_list)"
      ],
      "metadata": {
        "id": "pTFbmbuAcY4I",
        "outputId": "3bf3f58e-645e-49d4-a6bf-50fb2eff4757",
        "colab": {
          "base_uri": "https://localhost:8080/"
        }
      },
      "id": "pTFbmbuAcY4I",
      "execution_count": 72,
      "outputs": [
        {
          "output_type": "stream",
          "name": "stdout",
          "text": [
            "['파비코1', '파비코']\n"
          ]
        }
      ]
    },
    {
      "cell_type": "markdown",
      "id": "2e44d112",
      "metadata": {
        "id": "2e44d112"
      },
      "source": [
        "## break\n",
        "\n",
        "- 특정 조건이 만족되면 for 문을 빠져나간다"
      ]
    },
    {
      "cell_type": "code",
      "execution_count": null,
      "id": "839f6172",
      "metadata": {
        "id": "839f6172",
        "outputId": "855af1a1-dee1-420e-f03f-b62166e518c5"
      },
      "outputs": [
        {
          "name": "stdout",
          "output_type": "stream",
          "text": [
            "0\n",
            "10\n",
            "20\n",
            "30\n",
            "40\n",
            "50\n",
            "60\n",
            "70\n"
          ]
        }
      ],
      "source": [
        "for i in range(10):\n",
        "    x = i*10\n",
        "    if x > 70: break\n",
        "    print(x)\n"
      ]
    },
    {
      "cell_type": "markdown",
      "id": "1c9d6183",
      "metadata": {
        "id": "1c9d6183"
      },
      "source": [
        "# (실습) 구구단\n",
        "\n",
        "- 구구단을 축력하는 프로그램을 작성하시오"
      ]
    },
    {
      "cell_type": "code",
      "source": [
        "for i in range(2, 10):\n",
        "    print(f\"{i}단\")\n",
        "    for j in range(1, 10):\n",
        "        print(f\"{i} x {j} = {i*j}\")\n",
        "    print()\n"
      ],
      "metadata": {
        "id": "itCSpVdXe9nd",
        "outputId": "c5c8a3c7-837e-4ef6-c5e6-4888fb9bbe19",
        "colab": {
          "base_uri": "https://localhost:8080/"
        }
      },
      "id": "itCSpVdXe9nd",
      "execution_count": 73,
      "outputs": [
        {
          "output_type": "stream",
          "name": "stdout",
          "text": [
            "2단\n",
            "2 x 1 = 2\n",
            "2 x 2 = 4\n",
            "2 x 3 = 6\n",
            "2 x 4 = 8\n",
            "2 x 5 = 10\n",
            "2 x 6 = 12\n",
            "2 x 7 = 14\n",
            "2 x 8 = 16\n",
            "2 x 9 = 18\n",
            "\n",
            "3단\n",
            "3 x 1 = 3\n",
            "3 x 2 = 6\n",
            "3 x 3 = 9\n",
            "3 x 4 = 12\n",
            "3 x 5 = 15\n",
            "3 x 6 = 18\n",
            "3 x 7 = 21\n",
            "3 x 8 = 24\n",
            "3 x 9 = 27\n",
            "\n",
            "4단\n",
            "4 x 1 = 4\n",
            "4 x 2 = 8\n",
            "4 x 3 = 12\n",
            "4 x 4 = 16\n",
            "4 x 5 = 20\n",
            "4 x 6 = 24\n",
            "4 x 7 = 28\n",
            "4 x 8 = 32\n",
            "4 x 9 = 36\n",
            "\n",
            "5단\n",
            "5 x 1 = 5\n",
            "5 x 2 = 10\n",
            "5 x 3 = 15\n",
            "5 x 4 = 20\n",
            "5 x 5 = 25\n",
            "5 x 6 = 30\n",
            "5 x 7 = 35\n",
            "5 x 8 = 40\n",
            "5 x 9 = 45\n",
            "\n",
            "6단\n",
            "6 x 1 = 6\n",
            "6 x 2 = 12\n",
            "6 x 3 = 18\n",
            "6 x 4 = 24\n",
            "6 x 5 = 30\n",
            "6 x 6 = 36\n",
            "6 x 7 = 42\n",
            "6 x 8 = 48\n",
            "6 x 9 = 54\n",
            "\n",
            "7단\n",
            "7 x 1 = 7\n",
            "7 x 2 = 14\n",
            "7 x 3 = 21\n",
            "7 x 4 = 28\n",
            "7 x 5 = 35\n",
            "7 x 6 = 42\n",
            "7 x 7 = 49\n",
            "7 x 8 = 56\n",
            "7 x 9 = 63\n",
            "\n",
            "8단\n",
            "8 x 1 = 8\n",
            "8 x 2 = 16\n",
            "8 x 3 = 24\n",
            "8 x 4 = 32\n",
            "8 x 5 = 40\n",
            "8 x 6 = 48\n",
            "8 x 7 = 56\n",
            "8 x 8 = 64\n",
            "8 x 9 = 72\n",
            "\n",
            "9단\n",
            "9 x 1 = 9\n",
            "9 x 2 = 18\n",
            "9 x 3 = 27\n",
            "9 x 4 = 36\n",
            "9 x 5 = 45\n",
            "9 x 6 = 54\n",
            "9 x 7 = 63\n",
            "9 x 8 = 72\n",
            "9 x 9 = 81\n",
            "\n"
          ]
        }
      ]
    },
    {
      "cell_type": "code",
      "source": [
        "print(\"구구단 출력\")\n",
        "print(\"-\" * 30)\n",
        "\n",
        "for i in range(1, 10):\n",
        "    for j in range(2, 10):\n",
        "        print(f\"{j} x {i} = {j*i}\\t\", end=\"\")\n",
        "    print()\n",
        "\n",
        "print(\"-\" * 30)"
      ],
      "metadata": {
        "id": "NK7hqummhlx_",
        "outputId": "fd8be8b2-a928-4133-b0bf-06398699c96e",
        "colab": {
          "base_uri": "https://localhost:8080/"
        }
      },
      "id": "NK7hqummhlx_",
      "execution_count": 74,
      "outputs": [
        {
          "output_type": "stream",
          "name": "stdout",
          "text": [
            "구구단 출력\n",
            "------------------------------\n",
            "2 x 1 = 2\t3 x 1 = 3\t4 x 1 = 4\t5 x 1 = 5\t6 x 1 = 6\t7 x 1 = 7\t8 x 1 = 8\t9 x 1 = 9\t\n",
            "2 x 2 = 4\t3 x 2 = 6\t4 x 2 = 8\t5 x 2 = 10\t6 x 2 = 12\t7 x 2 = 14\t8 x 2 = 16\t9 x 2 = 18\t\n",
            "2 x 3 = 6\t3 x 3 = 9\t4 x 3 = 12\t5 x 3 = 15\t6 x 3 = 18\t7 x 3 = 21\t8 x 3 = 24\t9 x 3 = 27\t\n",
            "2 x 4 = 8\t3 x 4 = 12\t4 x 4 = 16\t5 x 4 = 20\t6 x 4 = 24\t7 x 4 = 28\t8 x 4 = 32\t9 x 4 = 36\t\n",
            "2 x 5 = 10\t3 x 5 = 15\t4 x 5 = 20\t5 x 5 = 25\t6 x 5 = 30\t7 x 5 = 35\t8 x 5 = 40\t9 x 5 = 45\t\n",
            "2 x 6 = 12\t3 x 6 = 18\t4 x 6 = 24\t5 x 6 = 30\t6 x 6 = 36\t7 x 6 = 42\t8 x 6 = 48\t9 x 6 = 54\t\n",
            "2 x 7 = 14\t3 x 7 = 21\t4 x 7 = 28\t5 x 7 = 35\t6 x 7 = 42\t7 x 7 = 49\t8 x 7 = 56\t9 x 7 = 63\t\n",
            "2 x 8 = 16\t3 x 8 = 24\t4 x 8 = 32\t5 x 8 = 40\t6 x 8 = 48\t7 x 8 = 56\t8 x 8 = 64\t9 x 8 = 72\t\n",
            "2 x 9 = 18\t3 x 9 = 27\t4 x 9 = 36\t5 x 9 = 45\t6 x 9 = 54\t7 x 9 = 63\t8 x 9 = 72\t9 x 9 = 81\t\n",
            "------------------------------\n"
          ]
        }
      ]
    },
    {
      "cell_type": "code",
      "source": [
        "import pandas as pd\n",
        "\n",
        "data = []\n",
        "for i in range(1, 10):\n",
        "    row = []\n",
        "    for j in range(2, 10):\n",
        "        row.append(j*i)\n",
        "    data.append(row)\n",
        "\n",
        "df = pd.DataFrame(data, index=range(1, 10), columns=range(2, 10))\n",
        "print(df)"
      ],
      "metadata": {
        "id": "Koqo5YmzhzmT",
        "outputId": "6c49d930-73a5-45bf-9b6c-ca6dc17dd271",
        "colab": {
          "base_uri": "https://localhost:8080/"
        }
      },
      "id": "Koqo5YmzhzmT",
      "execution_count": 75,
      "outputs": [
        {
          "output_type": "stream",
          "name": "stdout",
          "text": [
            "    2   3   4   5   6   7   8   9\n",
            "1   2   3   4   5   6   7   8   9\n",
            "2   4   6   8  10  12  14  16  18\n",
            "3   6   9  12  15  18  21  24  27\n",
            "4   8  12  16  20  24  28  32  36\n",
            "5  10  15  20  25  30  35  40  45\n",
            "6  12  18  24  30  36  42  48  54\n",
            "7  14  21  28  35  42  49  56  63\n",
            "8  16  24  32  40  48  56  64  72\n",
            "9  18  27  36  45  54  63  72  81\n"
          ]
        }
      ]
    }
  ],
  "metadata": {
    "kernelspec": {
      "display_name": "Python 3",
      "language": "python",
      "name": "python3"
    },
    "language_info": {
      "codemirror_mode": {
        "name": "ipython",
        "version": 3
      },
      "file_extension": ".py",
      "mimetype": "text/x-python",
      "name": "python",
      "nbconvert_exporter": "python",
      "pygments_lexer": "ipython3",
      "version": "3.8.8"
    },
    "toc": {
      "base_numbering": 1,
      "nav_menu": {},
      "number_sections": false,
      "sideBar": true,
      "skip_h1_title": false,
      "title_cell": "Table of Contents",
      "title_sidebar": "Contents",
      "toc_cell": false,
      "toc_position": {
        "height": "calc(100% - 180px)",
        "left": "10px",
        "top": "150px",
        "width": "165px"
      },
      "toc_section_display": true,
      "toc_window_display": true
    },
    "colab": {
      "provenance": [],
      "toc_visible": true
    }
  },
  "nbformat": 4,
  "nbformat_minor": 5
}